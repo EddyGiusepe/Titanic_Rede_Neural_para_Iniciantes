{
  "nbformat": 4,
  "nbformat_minor": 0,
  "metadata": {
    "colab": {
      "name": "Titanic_Rede_Neural.ipynb",
      "provenance": [],
      "mount_file_id": "1A9qUA7uhwABRpSfm4oc-PqUQZUO3Jpet",
      "authorship_tag": "ABX9TyMUMLZD9rtPDddtr+usw+Z2",
      "include_colab_link": true
    },
    "kernelspec": {
      "name": "python3",
      "display_name": "Python 3"
    },
    "accelerator": "GPU"
  },
  "cells": [
    {
      "cell_type": "markdown",
      "metadata": {
        "id": "view-in-github",
        "colab_type": "text"
      },
      "source": [
        "<a href=\"https://colab.research.google.com/github/EddyGiusepe/Titanic_Rede_Neural_para_Iniciantes/blob/main/Titanic_Rede_Neural.ipynb\" target=\"_parent\"><img src=\"https://colab.research.google.com/assets/colab-badge.svg\" alt=\"Open In Colab\"/></a>"
      ]
    },
    {
      "cell_type": "markdown",
      "metadata": {
        "id": "9FMpiuxBjEw5"
      },
      "source": [
        "# Titanic: Rede Neural para Iniciantes\r\n",
        "\r\n",
        "Neste Notebook, cobriremos todas as etapas necessárias para treinar, ajustar e avaliar uma rede neural com Dados do Titanic.\r\n",
        "\r\n",
        "\\\\\r\n",
        "\r\n",
        "## Breve introdução sobre o navio Titanic\r\n",
        "\r\n",
        "Titanic foi um navio de passageiros britânico operado pela **White Star Line** que naufragou no Oceano Atlântico Norte nas primeiras horas da manhã de $15$ de abril de $1912$, após colidir com um iceberg durante sua viagem inaugural de **Southampton** para a cidade de Nova York. Dos cerca de $2\\,224$ passageiros e tripulantes a bordo, mais de $1\\,500$ morreram, tornando o naufrágio um dos mais mortíferos desastres marítimos comerciais em tempos de paz da história moderna. Embora houvesse cerca de $2\\,224$ passageiros e membros da tripulação, recebemos dados de cerca de $1\\,300$ passageiros. Desses dados de $1\\,300$ passageiros, cerca de $9\\,00$ dados são usados para fins de treinamento e os 400 restantes são usados para fins de teste. Nesta competição, recebemos cerca de $400$ dados de teste com coluna sobrevivente ausente e temos que usar diferentes algoritmos de aprendizado de máquina para prever se os passageiros nos dados de teste sobreviveram ou não. Os dados de treinamento e teste não estão limpos (contém muitos valores ausentes (missing)), então o objetivo principal deste Notebook é limpar os dados e construir o modelo com a melhor precisão.\r\n",
        "\r\n",
        "\r\n",
        "O Conjunto de Dados foram pegos do **Kaggle**. \r\n",
        "A partir de dois trabalhos:\r\n",
        "\r\n",
        "* [Introdção ao Titanic usando rede neural](https://www.kaggle.com/jamesleslie/titanic-neural-network-for-beginners?select=train.csv).\r\n",
        "\r\n",
        "* [Titanic: Neural Network for Beginners](https://www.kaggle.com/jamesleslie/titanic-neural-network-for-beginners?select=train.csv).\r\n",
        "\r\n",
        "* A descrição dos Dados pode ser encontrado [aqui](https://www.kaggle.com/theblackmamba31/getting-started-with-titanic-using-neural-network).\r\n"
      ]
    },
    {
      "cell_type": "markdown",
      "metadata": {
        "id": "K1Fe5gcOj9-K"
      },
      "source": [
        "## Importamos nossas bibliotecas"
      ]
    },
    {
      "cell_type": "code",
      "metadata": {
        "id": "DxzsM79ViYwA"
      },
      "source": [
        "import os\r\n",
        "import tqdm\r\n",
        "\r\n",
        "import numpy as np\r\n",
        "import pandas as pd\r\n",
        "import seaborn as sns\r\n",
        "\r\n",
        "import matplotlib.pyplot as plt\r\n",
        "%matplotlib inline\r\n",
        "\r\n",
        "\r\n",
        "\r\n",
        "from keras.models import Sequential, load_model\r\n",
        "from keras.layers import Dense, Activation, Dropout, Input, BatchNormalization\r\n",
        "\r\n",
        "from sklearn.metrics import accuracy_score\r\n",
        "from sklearn.metrics import confusion_matrix , classification_report\r\n",
        "\r\n"
      ],
      "execution_count": 1,
      "outputs": []
    },
    {
      "cell_type": "markdown",
      "metadata": {
        "id": "P7djJylCkulw"
      },
      "source": [
        "## Importamos nossos Dados (train e test) do Titanic"
      ]
    },
    {
      "cell_type": "code",
      "metadata": {
        "id": "bwnsLgo6kuCJ"
      },
      "source": [
        "train = pd.read_csv(\"/content/drive/MyDrive/Apenas_TensorFlow_Eddy/Kaggle/Titanic_Rede_Neural/train.csv\")\r\n",
        "test = pd.read_csv(\"/content/drive/MyDrive/Apenas_TensorFlow_Eddy/Kaggle/Titanic_Rede_Neural/test.csv\")"
      ],
      "execution_count": 2,
      "outputs": []
    },
    {
      "cell_type": "code",
      "metadata": {
        "colab": {
          "base_uri": "https://localhost:8080/",
          "height": 76
        },
        "id": "7nuJVeq9pFrG",
        "outputId": "e52e3c5a-6bec-41a7-f541-ba23fd827857"
      },
      "source": [
        "train.sample()"
      ],
      "execution_count": 3,
      "outputs": [
        {
          "output_type": "execute_result",
          "data": {
            "text/html": [
              "<div>\n",
              "<style scoped>\n",
              "    .dataframe tbody tr th:only-of-type {\n",
              "        vertical-align: middle;\n",
              "    }\n",
              "\n",
              "    .dataframe tbody tr th {\n",
              "        vertical-align: top;\n",
              "    }\n",
              "\n",
              "    .dataframe thead th {\n",
              "        text-align: right;\n",
              "    }\n",
              "</style>\n",
              "<table border=\"1\" class=\"dataframe\">\n",
              "  <thead>\n",
              "    <tr style=\"text-align: right;\">\n",
              "      <th></th>\n",
              "      <th>PassengerId</th>\n",
              "      <th>Survived</th>\n",
              "      <th>Pclass</th>\n",
              "      <th>Name</th>\n",
              "      <th>Sex</th>\n",
              "      <th>Age</th>\n",
              "      <th>SibSp</th>\n",
              "      <th>Parch</th>\n",
              "      <th>Ticket</th>\n",
              "      <th>Fare</th>\n",
              "      <th>Cabin</th>\n",
              "      <th>Embarked</th>\n",
              "    </tr>\n",
              "  </thead>\n",
              "  <tbody>\n",
              "    <tr>\n",
              "      <th>306</th>\n",
              "      <td>307</td>\n",
              "      <td>1</td>\n",
              "      <td>1</td>\n",
              "      <td>Fleming, Miss. Margaret</td>\n",
              "      <td>female</td>\n",
              "      <td>NaN</td>\n",
              "      <td>0</td>\n",
              "      <td>0</td>\n",
              "      <td>17421</td>\n",
              "      <td>110.8833</td>\n",
              "      <td>NaN</td>\n",
              "      <td>C</td>\n",
              "    </tr>\n",
              "  </tbody>\n",
              "</table>\n",
              "</div>"
            ],
            "text/plain": [
              "     PassengerId  Survived  Pclass  ...      Fare Cabin  Embarked\n",
              "306          307         1       1  ...  110.8833   NaN         C\n",
              "\n",
              "[1 rows x 12 columns]"
            ]
          },
          "metadata": {
            "tags": []
          },
          "execution_count": 3
        }
      ]
    },
    {
      "cell_type": "code",
      "metadata": {
        "colab": {
          "base_uri": "https://localhost:8080/",
          "height": 76
        },
        "id": "FLAyB4j1pRa5",
        "outputId": "e6bdf256-ac36-4f31-d6b6-f72cd3c30a24"
      },
      "source": [
        "test.sample()"
      ],
      "execution_count": 4,
      "outputs": [
        {
          "output_type": "execute_result",
          "data": {
            "text/html": [
              "<div>\n",
              "<style scoped>\n",
              "    .dataframe tbody tr th:only-of-type {\n",
              "        vertical-align: middle;\n",
              "    }\n",
              "\n",
              "    .dataframe tbody tr th {\n",
              "        vertical-align: top;\n",
              "    }\n",
              "\n",
              "    .dataframe thead th {\n",
              "        text-align: right;\n",
              "    }\n",
              "</style>\n",
              "<table border=\"1\" class=\"dataframe\">\n",
              "  <thead>\n",
              "    <tr style=\"text-align: right;\">\n",
              "      <th></th>\n",
              "      <th>PassengerId</th>\n",
              "      <th>Pclass</th>\n",
              "      <th>Name</th>\n",
              "      <th>Sex</th>\n",
              "      <th>Age</th>\n",
              "      <th>SibSp</th>\n",
              "      <th>Parch</th>\n",
              "      <th>Ticket</th>\n",
              "      <th>Fare</th>\n",
              "      <th>Cabin</th>\n",
              "      <th>Embarked</th>\n",
              "    </tr>\n",
              "  </thead>\n",
              "  <tbody>\n",
              "    <tr>\n",
              "      <th>52</th>\n",
              "      <td>944</td>\n",
              "      <td>2</td>\n",
              "      <td>Hocking, Miss. Ellen Nellie\"\"</td>\n",
              "      <td>female</td>\n",
              "      <td>20.0</td>\n",
              "      <td>2</td>\n",
              "      <td>1</td>\n",
              "      <td>29105</td>\n",
              "      <td>23.0</td>\n",
              "      <td>NaN</td>\n",
              "      <td>S</td>\n",
              "    </tr>\n",
              "  </tbody>\n",
              "</table>\n",
              "</div>"
            ],
            "text/plain": [
              "    PassengerId  Pclass                           Name  ...  Fare  Cabin  Embarked\n",
              "52          944       2  Hocking, Miss. Ellen Nellie\"\"  ...  23.0    NaN         S\n",
              "\n",
              "[1 rows x 11 columns]"
            ]
          },
          "metadata": {
            "tags": []
          },
          "execution_count": 4
        }
      ]
    },
    {
      "cell_type": "code",
      "metadata": {
        "id": "J0J7Wj8Gp7Ku"
      },
      "source": [
        "# Construimos nosso DataFrame\r\n",
        "\r\n",
        "df = pd.concat([train, test], axis=0, sort=True)"
      ],
      "execution_count": 5,
      "outputs": []
    },
    {
      "cell_type": "code",
      "metadata": {
        "colab": {
          "base_uri": "https://localhost:8080/",
          "height": 223
        },
        "id": "Zf0ZBF_Z0Vmv",
        "outputId": "b7cf99b2-051b-423a-e58a-f2053c0ac8e6"
      },
      "source": [
        "df.head(6)"
      ],
      "execution_count": 6,
      "outputs": [
        {
          "output_type": "execute_result",
          "data": {
            "text/html": [
              "<div>\n",
              "<style scoped>\n",
              "    .dataframe tbody tr th:only-of-type {\n",
              "        vertical-align: middle;\n",
              "    }\n",
              "\n",
              "    .dataframe tbody tr th {\n",
              "        vertical-align: top;\n",
              "    }\n",
              "\n",
              "    .dataframe thead th {\n",
              "        text-align: right;\n",
              "    }\n",
              "</style>\n",
              "<table border=\"1\" class=\"dataframe\">\n",
              "  <thead>\n",
              "    <tr style=\"text-align: right;\">\n",
              "      <th></th>\n",
              "      <th>Age</th>\n",
              "      <th>Cabin</th>\n",
              "      <th>Embarked</th>\n",
              "      <th>Fare</th>\n",
              "      <th>Name</th>\n",
              "      <th>Parch</th>\n",
              "      <th>PassengerId</th>\n",
              "      <th>Pclass</th>\n",
              "      <th>Sex</th>\n",
              "      <th>SibSp</th>\n",
              "      <th>Survived</th>\n",
              "      <th>Ticket</th>\n",
              "    </tr>\n",
              "  </thead>\n",
              "  <tbody>\n",
              "    <tr>\n",
              "      <th>0</th>\n",
              "      <td>22.0</td>\n",
              "      <td>NaN</td>\n",
              "      <td>S</td>\n",
              "      <td>7.2500</td>\n",
              "      <td>Braund, Mr. Owen Harris</td>\n",
              "      <td>0</td>\n",
              "      <td>1</td>\n",
              "      <td>3</td>\n",
              "      <td>male</td>\n",
              "      <td>1</td>\n",
              "      <td>0.0</td>\n",
              "      <td>A/5 21171</td>\n",
              "    </tr>\n",
              "    <tr>\n",
              "      <th>1</th>\n",
              "      <td>38.0</td>\n",
              "      <td>C85</td>\n",
              "      <td>C</td>\n",
              "      <td>71.2833</td>\n",
              "      <td>Cumings, Mrs. John Bradley (Florence Briggs Th...</td>\n",
              "      <td>0</td>\n",
              "      <td>2</td>\n",
              "      <td>1</td>\n",
              "      <td>female</td>\n",
              "      <td>1</td>\n",
              "      <td>1.0</td>\n",
              "      <td>PC 17599</td>\n",
              "    </tr>\n",
              "    <tr>\n",
              "      <th>2</th>\n",
              "      <td>26.0</td>\n",
              "      <td>NaN</td>\n",
              "      <td>S</td>\n",
              "      <td>7.9250</td>\n",
              "      <td>Heikkinen, Miss. Laina</td>\n",
              "      <td>0</td>\n",
              "      <td>3</td>\n",
              "      <td>3</td>\n",
              "      <td>female</td>\n",
              "      <td>0</td>\n",
              "      <td>1.0</td>\n",
              "      <td>STON/O2. 3101282</td>\n",
              "    </tr>\n",
              "    <tr>\n",
              "      <th>3</th>\n",
              "      <td>35.0</td>\n",
              "      <td>C123</td>\n",
              "      <td>S</td>\n",
              "      <td>53.1000</td>\n",
              "      <td>Futrelle, Mrs. Jacques Heath (Lily May Peel)</td>\n",
              "      <td>0</td>\n",
              "      <td>4</td>\n",
              "      <td>1</td>\n",
              "      <td>female</td>\n",
              "      <td>1</td>\n",
              "      <td>1.0</td>\n",
              "      <td>113803</td>\n",
              "    </tr>\n",
              "    <tr>\n",
              "      <th>4</th>\n",
              "      <td>35.0</td>\n",
              "      <td>NaN</td>\n",
              "      <td>S</td>\n",
              "      <td>8.0500</td>\n",
              "      <td>Allen, Mr. William Henry</td>\n",
              "      <td>0</td>\n",
              "      <td>5</td>\n",
              "      <td>3</td>\n",
              "      <td>male</td>\n",
              "      <td>0</td>\n",
              "      <td>0.0</td>\n",
              "      <td>373450</td>\n",
              "    </tr>\n",
              "    <tr>\n",
              "      <th>5</th>\n",
              "      <td>NaN</td>\n",
              "      <td>NaN</td>\n",
              "      <td>Q</td>\n",
              "      <td>8.4583</td>\n",
              "      <td>Moran, Mr. James</td>\n",
              "      <td>0</td>\n",
              "      <td>6</td>\n",
              "      <td>3</td>\n",
              "      <td>male</td>\n",
              "      <td>0</td>\n",
              "      <td>0.0</td>\n",
              "      <td>330877</td>\n",
              "    </tr>\n",
              "  </tbody>\n",
              "</table>\n",
              "</div>"
            ],
            "text/plain": [
              "    Age Cabin Embarked     Fare  ...     Sex  SibSp  Survived            Ticket\n",
              "0  22.0   NaN        S   7.2500  ...    male      1       0.0         A/5 21171\n",
              "1  38.0   C85        C  71.2833  ...  female      1       1.0          PC 17599\n",
              "2  26.0   NaN        S   7.9250  ...  female      0       1.0  STON/O2. 3101282\n",
              "3  35.0  C123        S  53.1000  ...  female      1       1.0            113803\n",
              "4  35.0   NaN        S   8.0500  ...    male      0       0.0            373450\n",
              "5   NaN   NaN        Q   8.4583  ...    male      0       0.0            330877\n",
              "\n",
              "[6 rows x 12 columns]"
            ]
          },
          "metadata": {
            "tags": []
          },
          "execution_count": 6
        }
      ]
    },
    {
      "cell_type": "markdown",
      "metadata": {
        "id": "qPQVvKdJy8tA"
      },
      "source": [
        "## Visualização e análise de dados "
      ]
    },
    {
      "cell_type": "markdown",
      "metadata": {
        "id": "pgZvNhpJ0rtC"
      },
      "source": [
        "A seguir vamos a vizualizar os valores nulos em ambos DataSet (train e test)."
      ]
    },
    {
      "cell_type": "code",
      "metadata": {
        "colab": {
          "base_uri": "https://localhost:8080/"
        },
        "id": "Ziud0gf4BiiJ",
        "outputId": "a5caafff-18b0-4b1d-f269-781e01dcc1d4"
      },
      "source": [
        "train.info()"
      ],
      "execution_count": 7,
      "outputs": [
        {
          "output_type": "stream",
          "text": [
            "<class 'pandas.core.frame.DataFrame'>\n",
            "RangeIndex: 891 entries, 0 to 890\n",
            "Data columns (total 12 columns):\n",
            " #   Column       Non-Null Count  Dtype  \n",
            "---  ------       --------------  -----  \n",
            " 0   PassengerId  891 non-null    int64  \n",
            " 1   Survived     891 non-null    int64  \n",
            " 2   Pclass       891 non-null    int64  \n",
            " 3   Name         891 non-null    object \n",
            " 4   Sex          891 non-null    object \n",
            " 5   Age          714 non-null    float64\n",
            " 6   SibSp        891 non-null    int64  \n",
            " 7   Parch        891 non-null    int64  \n",
            " 8   Ticket       891 non-null    object \n",
            " 9   Fare         891 non-null    float64\n",
            " 10  Cabin        204 non-null    object \n",
            " 11  Embarked     889 non-null    object \n",
            "dtypes: float64(2), int64(5), object(5)\n",
            "memory usage: 83.7+ KB\n"
          ],
          "name": "stdout"
        }
      ]
    },
    {
      "cell_type": "markdown",
      "metadata": {
        "id": "7-7YVlVIB1bo"
      },
      "source": [
        "No gráfico de barra (embaixo para train) de valor ausente, podemos concluir que a coluna ``Age``, ``Cabin`` e ``Embarked`` tem valor nulo, então podemos descartar a linha inteira ou preencher o valor ``nan`` com alguns valores como: média, meadian dependendo da variavel."
      ]
    },
    {
      "cell_type": "code",
      "metadata": {
        "colab": {
          "base_uri": "https://localhost:8080/",
          "height": 406
        },
        "id": "0T8kKc-NqYLS",
        "outputId": "df2f9c4a-13ce-4b96-8f51-d6fe9136d1ee"
      },
      "source": [
        "# Para nossos Dados de train\r\n",
        "\r\n",
        "plt.figure(figsize=(10, 5))\r\n",
        "plt.bar(df.columns, df.isna().sum())\r\n",
        "plt.xlabel(\"Nome das colunas\")\r\n",
        "plt.ylabel(\"Número de valores nulos (ausentes) nos Dados de treinamento\")\r\n",
        "plt.xticks(rotation=90)\r\n",
        "plt.show()\r\n"
      ],
      "execution_count": 8,
      "outputs": [
        {
          "output_type": "display_data",
          "data": {
            "image/png": "[encoded data removed]",
            "text/plain": [
              "<Figure size 720x360 with 1 Axes>"
            ]
          },
          "metadata": {
            "tags": [],
            "needs_background": "light"
          }
        }
      ]
    },
    {
      "cell_type": "code",
      "metadata": {
        "colab": {
          "base_uri": "https://localhost:8080/"
        },
        "id": "NF9O221NDGJe",
        "outputId": "c50806d5-dc26-48e3-8098-5803980e4504"
      },
      "source": [
        "test.info()"
      ],
      "execution_count": 9,
      "outputs": [
        {
          "output_type": "stream",
          "text": [
            "<class 'pandas.core.frame.DataFrame'>\n",
            "RangeIndex: 418 entries, 0 to 417\n",
            "Data columns (total 11 columns):\n",
            " #   Column       Non-Null Count  Dtype  \n",
            "---  ------       --------------  -----  \n",
            " 0   PassengerId  418 non-null    int64  \n",
            " 1   Pclass       418 non-null    int64  \n",
            " 2   Name         418 non-null    object \n",
            " 3   Sex          418 non-null    object \n",
            " 4   Age          332 non-null    float64\n",
            " 5   SibSp        418 non-null    int64  \n",
            " 6   Parch        418 non-null    int64  \n",
            " 7   Ticket       418 non-null    object \n",
            " 8   Fare         417 non-null    float64\n",
            " 9   Cabin        91 non-null     object \n",
            " 10  Embarked     418 non-null    object \n",
            "dtypes: float64(2), int64(4), object(5)\n",
            "memory usage: 36.0+ KB\n"
          ],
          "name": "stdout"
        }
      ]
    },
    {
      "cell_type": "code",
      "metadata": {
        "colab": {
          "base_uri": "https://localhost:8080/",
          "height": 384
        },
        "id": "t00RnBab3P2_",
        "outputId": "8af3d4da-5e6c-471a-fbb9-cf1f2fcea8d4"
      },
      "source": [
        "# Para nossos Dados de test\r\n",
        "\r\n",
        "plt.figure(figsize=(10, 5))\r\n",
        "plt.bar(test.columns, test.isna().sum(), color='red')\r\n",
        "plt.xlabel(\"Nome das colunas\")\r\n",
        "plt.ylabel(\"Número de valores ausentes nos Dados de teste\")\r\n",
        "plt.xticks(rotation=90)\r\n",
        "plt.show()"
      ],
      "execution_count": 10,
      "outputs": [
        {
          "output_type": "display_data",
          "data": {
            "image/png": "[encoded data removed]",
            "text/plain": [
              "<Figure size 720x360 with 1 Axes>"
            ]
          },
          "metadata": {
            "tags": [],
            "needs_background": "light"
          }
        }
      ]
    },
    {
      "cell_type": "markdown",
      "metadata": {
        "id": "Aro_WUcGB_WS"
      },
      "source": [
        "Podemos observar que a coluna ``Age``, ``Fare`` e ``Cabin`` tem valores ``nan``."
      ]
    },
    {
      "cell_type": "code",
      "metadata": {
        "colab": {
          "base_uri": "https://localhost:8080/",
          "height": 374
        },
        "id": "BpbihIT4EVRY",
        "outputId": "573b9754-0ec6-4edc-83d0-7d70aee9d6d7"
      },
      "source": [
        "# Podemos visualizar também nossos Dados faltantes em um mapa de calor:\r\n",
        "# sns.heatmap(train.isnull())     ou:\r\n",
        "\r\n",
        "plt.figure(figsize=(10, 6))\r\n",
        "sns.heatmap(df.isnull(), yticklabels=False, cbar=False, cmap='viridis')\r\n",
        "plt.show()\r\n"
      ],
      "execution_count": 11,
      "outputs": [
        {
          "output_type": "display_data",
          "data": {
            "image/png": "[encoded data removed]",
            "text/plain": [
              "<Figure size 720x432 with 1 Axes>"
            ]
          },
          "metadata": {
            "tags": [],
            "needs_background": "light"
          }
        }
      ]
    },
    {
      "cell_type": "code",
      "metadata": {
        "colab": {
          "base_uri": "https://localhost:8080/",
          "height": 374
        },
        "id": "eH0A2U54FAEs",
        "outputId": "b9c176a6-dbeb-4d0a-a0d3-0deb56af7db8"
      },
      "source": [
        "# Para nosso Dados de test\r\n",
        "plt.figure(figsize=(10, 6))\r\n",
        "sns.heatmap(test.isnull(), yticklabels=False, cbar=False, cmap='viridis')\r\n",
        "plt.show()"
      ],
      "execution_count": 12,
      "outputs": [
        {
          "output_type": "display_data",
          "data": {
            "image/png": "[encoded data removed]",
            "text/plain": [
              "<Figure size 720x432 with 1 Axes>"
            ]
          },
          "metadata": {
            "tags": [],
            "needs_background": "light"
          }
        }
      ]
    },
    {
      "cell_type": "markdown",
      "metadata": {
        "id": "6wLz1PRTIPEF"
      },
      "source": [
        "Visualizando o número de passageiros sobreviventes abaixo, plotamos apenas para nossos Dados de ``train``, já que não temos a coluna ``Survived`` para Dados de teste. Este gráfico mostra que cerca de $600$ pessoas morreram enquanto cerca de $300$ sobreviveram."
      ]
    },
    {
      "cell_type": "code",
      "metadata": {
        "colab": {
          "base_uri": "https://localhost:8080/",
          "height": 334
        },
        "id": "WxfsLPqQGI1E",
        "outputId": "6cb1f42e-395e-4400-af65-bf30963c2322"
      },
      "source": [
        "plt.figure(figsize=(10, 5))\r\n",
        "sns.set_style('whitegrid')\r\n",
        "sns.countplot(x='Survived', data=train)\r\n",
        "plt.show()"
      ],
      "execution_count": 13,
      "outputs": [
        {
          "output_type": "display_data",
          "data": {
            "image/png": "[encoded data removed]",
            "text/plain": [
              "<Figure size 720x360 with 1 Axes>"
            ]
          },
          "metadata": {
            "tags": [],
            "needs_background": "light"
          }
        }
      ]
    },
    {
      "cell_type": "markdown",
      "metadata": {
        "id": "5q4Ii6sJMLmA"
      },
      "source": [
        "Vamos a visualizar se o gênero afeta a taxa de sobrevivência (``Survived``) ou não, o gráfico de abaixo mostra claramente que a taxa de mortalidade para passageiros do sexo masculino é muito maior do que para as mulheres."
      ]
    },
    {
      "cell_type": "code",
      "metadata": {
        "colab": {
          "base_uri": "https://localhost:8080/",
          "height": 334
        },
        "id": "ERiYp5EmMHk3",
        "outputId": "e002a265-3006-49e2-f2da-46cf503e8af2"
      },
      "source": [
        "plt.figure(figsize=(10, 5))\r\n",
        "sns.countplot(x='Survived', hue='Sex', data=train)\r\n",
        "plt.show()"
      ],
      "execution_count": 14,
      "outputs": [
        {
          "output_type": "display_data",
          "data": {
            "image/png": "[encoded data removed]",
            "text/plain": [
              "<Figure size 720x360 with 1 Axes>"
            ]
          },
          "metadata": {
            "tags": []
          }
        }
      ]
    },
    {
      "cell_type": "markdown",
      "metadata": {
        "id": "AzkBggmhckUk"
      },
      "source": [
        "Vamos a visualizar se uma classe afeta a taxa de sobrevivência ou não, o gráfico abaixo mostra claramente que as pessoas na terceira classe têm maior probabilidade de morrer."
      ]
    },
    {
      "cell_type": "code",
      "metadata": {
        "colab": {
          "base_uri": "https://localhost:8080/",
          "height": 334
        },
        "id": "4AyF4K7gL3Er",
        "outputId": "ebb28c9d-4014-4638-cd9f-81ef9d98e931"
      },
      "source": [
        "plt.figure(figsize=(10, 5))\r\n",
        "sns.countplot(x='Survived', hue='Pclass', data=train)\r\n",
        "plt.show()"
      ],
      "execution_count": 15,
      "outputs": [
        {
          "output_type": "display_data",
          "data": {
            "image/png": "[encoded data removed]",
            "text/plain": [
              "<Figure size 720x360 with 1 Axes>"
            ]
          },
          "metadata": {
            "tags": []
          }
        }
      ]
    },
    {
      "cell_type": "markdown",
      "metadata": {
        "id": "3e_aLUh9K5As"
      },
      "source": [
        "Também podemos visualizar o número de passageiros de diferentes colunas embarcadas em ``train`` ou em ``df`` (Dados totais).\r\n",
        "\r\n",
        "\r\n",
        "Porto de embarque: C = Cherbourg, Q = Queenstown, S = Southampton"
      ]
    },
    {
      "cell_type": "code",
      "metadata": {
        "colab": {
          "base_uri": "https://localhost:8080/",
          "height": 334
        },
        "id": "Aatb6M82JM6M",
        "outputId": "2cf7f86c-d1ea-4bf2-cdb9-17f978ee3785"
      },
      "source": [
        "plt.figure(figsize=(10, 5))\r\n",
        "sns.countplot(x='Embarked', data=df)\r\n",
        "plt.show()"
      ],
      "execution_count": 16,
      "outputs": [
        {
          "output_type": "display_data",
          "data": {
            "image/png": "[encoded data removed]",
            "text/plain": [
              "<Figure size 720x360 with 1 Axes>"
            ]
          },
          "metadata": {
            "tags": []
          }
        }
      ]
    },
    {
      "cell_type": "code",
      "metadata": {
        "colab": {
          "base_uri": "https://localhost:8080/",
          "height": 355
        },
        "id": "ZWOZ9Cefo04C",
        "outputId": "f157e40a-c921-47d0-8d22-9c600508c534"
      },
      "source": [
        "# Também podemos visualizar com respeito a todos nossos Dados\r\n",
        "\r\n",
        "plt.figure(figsize=(10, 5))\r\n",
        "sns.countplot(x='Sex', hue='Survived', data=df)\r\n",
        "plt.xticks(rotation=45)\r\n",
        "plt.show()"
      ],
      "execution_count": 17,
      "outputs": [
        {
          "output_type": "display_data",
          "data": {
            "image/png": "[encoded data removed]",
            "text/plain": [
              "<Figure size 720x360 with 1 Axes>"
            ]
          },
          "metadata": {
            "tags": []
          }
        }
      ]
    },
    {
      "cell_type": "code",
      "metadata": {
        "colab": {
          "base_uri": "https://localhost:8080/",
          "height": 334
        },
        "id": "UDUUpvS-yUBU",
        "outputId": "705d1866-0e97-45f7-f08a-93b96e6b873f"
      },
      "source": [
        "# Também podemos analisar através de um histograma a Idade (Age) das pessoas\r\n",
        "\r\n",
        "plt.figure(figsize=(10, 5))\r\n",
        "df['Age'].hist(bins=10, color='red', alpha=0.5)\r\n",
        "plt.xlabel(\"Idade (Age) das pessoas\")\r\n",
        "plt.show()"
      ],
      "execution_count": 18,
      "outputs": [
        {
          "output_type": "display_data",
          "data": {
            "image/png": "[encoded data removed]",
            "text/plain": [
              "<Figure size 720x360 with 1 Axes>"
            ]
          },
          "metadata": {
            "tags": []
          }
        }
      ]
    },
    {
      "cell_type": "markdown",
      "metadata": {
        "id": "Db6umulKuJp1"
      },
      "source": [
        "O gráfico a seguir mostra que cerca de $1000$ pessoas pagaram entre $0$ e $50$."
      ]
    },
    {
      "cell_type": "code",
      "metadata": {
        "colab": {
          "base_uri": "https://localhost:8080/",
          "height": 334
        },
        "id": "OqefqhrdsYc3",
        "outputId": "47a3eb85-264e-4665-fc00-b38f03737fd8"
      },
      "source": [
        "plt.figure(figsize=(10, 5))\r\n",
        "plt.hist(x=df.Fare, bins=10, color='lime')\r\n",
        "plt.xlabel(\"Fare\")\r\n",
        "plt.ylabel(\"Número\")\r\n",
        "plt.show()"
      ],
      "execution_count": 19,
      "outputs": [
        {
          "output_type": "display_data",
          "data": {
            "image/png": "[encoded data removed]",
            "text/plain": [
              "<Figure size 720x360 with 1 Axes>"
            ]
          },
          "metadata": {
            "tags": []
          }
        }
      ]
    },
    {
      "cell_type": "markdown",
      "metadata": {
        "id": "we61pTvsvCi3"
      },
      "source": [
        "### Lidando com os valores ausentes (missing)\r\n",
        "\r\n",
        "Primeiro vamos tratar os Dados de ``train`` e logo os Dados de ``test``"
      ]
    },
    {
      "cell_type": "code",
      "metadata": {
        "id": "IjIEKMqNtV2a"
      },
      "source": [
        "# Vamos a eliminar a coluna 'Cabin' porque é uma coluna com muitos Dados missing\r\n",
        "\r\n",
        "train.drop('Cabin', axis=1, inplace=True)\r\n",
        "test.drop('Cabin', axis=1, inplace=True)\r\n",
        "# Você pode verificar, no mapa de calor, que foi eliminado."
      ],
      "execution_count": 20,
      "outputs": []
    },
    {
      "cell_type": "markdown",
      "metadata": {
        "id": "NTczxrN-b-wM"
      },
      "source": [
        "A seguir na coluna 'Age' vamos a preencher com a média das idades e por classes (1, 2 ou 3)."
      ]
    },
    {
      "cell_type": "code",
      "metadata": {
        "id": "-UxNF4Zdeji_"
      },
      "source": [
        "# A seguinte função recebe duas colunas\r\n",
        "\r\n",
        "def inputar_idade(cols):\r\n",
        "  Idade = cols[0]\r\n",
        "  Classe = cols[1]\r\n",
        "\r\n",
        "\r\n",
        "  if pd.isnull(Idade):\r\n",
        "    if Classe == 1:\r\n",
        "      return 37\r\n",
        "    elif Classe == 2:\r\n",
        "      return 29\r\n",
        "    else:\r\n",
        "      return 24\r\n",
        "\r\n",
        "  else:\r\n",
        "    return Idade        \r\n",
        "\r\n"
      ],
      "execution_count": 21,
      "outputs": []
    },
    {
      "cell_type": "code",
      "metadata": {
        "id": "RDrCQXZDg5Av"
      },
      "source": [
        "train['Age'] = train[['Age', 'Pclass']].apply(inputar_idade, axis=1)"
      ],
      "execution_count": 22,
      "outputs": []
    },
    {
      "cell_type": "markdown",
      "metadata": {
        "id": "nABrLtacoyiR"
      },
      "source": [
        "A partir da visualização de nossos Dados, sabemos que ``Southamptom`` é o local embarcado mais frequente. Então, podemos preencher os dois valores que faltam na coluna de ``Embarked`` com 'S'."
      ]
    },
    {
      "cell_type": "code",
      "metadata": {
        "id": "1maYeKiwpSqR"
      },
      "source": [
        "train.Embarked.fillna('S', inplace=True)"
      ],
      "execution_count": 23,
      "outputs": []
    },
    {
      "cell_type": "code",
      "metadata": {
        "colab": {
          "base_uri": "https://localhost:8080/",
          "height": 483
        },
        "id": "YbNj-3a5a79u",
        "outputId": "15aef7ef-1be6-4186-997f-14cfdc0f1655"
      },
      "source": [
        "# Podemos verificar que nossos Dados de train estão agora todos completos\r\n",
        "\r\n",
        "plt.figure(figsize=(12, 8))\r\n",
        "sns.heatmap(train.isnull(), yticklabels=False, cbar=False, cmap='viridis')\r\n",
        "plt.show()\r\n"
      ],
      "execution_count": 24,
      "outputs": [
        {
          "output_type": "display_data",
          "data": {
            "image/png": "[encoded data removed]",
            "text/plain": [
              "<Figure size 864x576 with 1 Axes>"
            ]
          },
          "metadata": {
            "tags": []
          }
        }
      ]
    },
    {
      "cell_type": "code",
      "metadata": {
        "colab": {
          "base_uri": "https://localhost:8080/"
        },
        "id": "pkz_Q72ca_wZ",
        "outputId": "150861b2-03ee-435d-b754-e741c93e920a"
      },
      "source": [
        "# Verificamos nossos Dados de train com o método .info()\r\n",
        "\r\n",
        "train.info()"
      ],
      "execution_count": 25,
      "outputs": [
        {
          "output_type": "stream",
          "text": [
            "<class 'pandas.core.frame.DataFrame'>\n",
            "RangeIndex: 891 entries, 0 to 890\n",
            "Data columns (total 11 columns):\n",
            " #   Column       Non-Null Count  Dtype  \n",
            "---  ------       --------------  -----  \n",
            " 0   PassengerId  891 non-null    int64  \n",
            " 1   Survived     891 non-null    int64  \n",
            " 2   Pclass       891 non-null    int64  \n",
            " 3   Name         891 non-null    object \n",
            " 4   Sex          891 non-null    object \n",
            " 5   Age          891 non-null    float64\n",
            " 6   SibSp        891 non-null    int64  \n",
            " 7   Parch        891 non-null    int64  \n",
            " 8   Ticket       891 non-null    object \n",
            " 9   Fare         891 non-null    float64\n",
            " 10  Embarked     891 non-null    object \n",
            "dtypes: float64(2), int64(5), object(4)\n",
            "memory usage: 76.7+ KB\n"
          ],
          "name": "stdout"
        }
      ]
    },
    {
      "cell_type": "markdown",
      "metadata": {
        "id": "bMsPBx41s1tm"
      },
      "source": [
        "Vejamos agora nossos Dados de test"
      ]
    },
    {
      "cell_type": "code",
      "metadata": {
        "id": "L59atDh6s_h0"
      },
      "source": [
        "test['Age'] = test[['Age', 'Pclass']].apply(inputar_idade, axis=1)"
      ],
      "execution_count": 26,
      "outputs": []
    },
    {
      "cell_type": "markdown",
      "metadata": {
        "id": "usIwgKI2tY8Z"
      },
      "source": [
        "Na coluna ``Fare`` ta faltando um Dado. Então, podemos eliminar toda a linha onde se encontra esse Dado faltante ou subtituir pela média de toda a coluna. \r\n",
        "\r\n",
        "\r\n",
        "Nós vamos a preencher com a média de nossos Dados respeito desta coluna."
      ]
    },
    {
      "cell_type": "code",
      "metadata": {
        "id": "wNFqAbWHt7tL"
      },
      "source": [
        "test.Fare.fillna(test.Fare.mean(), inplace=True)"
      ],
      "execution_count": 27,
      "outputs": []
    },
    {
      "cell_type": "code",
      "metadata": {
        "colab": {
          "base_uri": "https://localhost:8080/"
        },
        "id": "PGtjCyiMjMis",
        "outputId": "ecd8b7e4-4a55-40d2-bb40-473f7464cfb1"
      },
      "source": [
        "test.info()"
      ],
      "execution_count": 28,
      "outputs": [
        {
          "output_type": "stream",
          "text": [
            "<class 'pandas.core.frame.DataFrame'>\n",
            "RangeIndex: 418 entries, 0 to 417\n",
            "Data columns (total 10 columns):\n",
            " #   Column       Non-Null Count  Dtype  \n",
            "---  ------       --------------  -----  \n",
            " 0   PassengerId  418 non-null    int64  \n",
            " 1   Pclass       418 non-null    int64  \n",
            " 2   Name         418 non-null    object \n",
            " 3   Sex          418 non-null    object \n",
            " 4   Age          418 non-null    float64\n",
            " 5   SibSp        418 non-null    int64  \n",
            " 6   Parch        418 non-null    int64  \n",
            " 7   Ticket       418 non-null    object \n",
            " 8   Fare         418 non-null    float64\n",
            " 9   Embarked     418 non-null    object \n",
            "dtypes: float64(2), int64(4), object(4)\n",
            "memory usage: 32.8+ KB\n"
          ],
          "name": "stdout"
        }
      ]
    },
    {
      "cell_type": "markdown",
      "metadata": {
        "id": "w1veLtLXujjB"
      },
      "source": [
        "### Convertendo as características categóricas\r\n",
        "\r\n",
        "Obs:\r\n",
        "\r\n",
        "* A coluna ``Name`` não tem como ser tratada porque esses dados são diferentes. Melhor dito essa coluna ``Name`` não pode ser relevante para definir se essa pessoa sobreviveu ou não-sobreviveu.\r\n",
        "\r\n",
        "* A coluna ``Ticket`` não é relevante porque os dados são muito aleatórios (dados todos diferentes)."
      ]
    },
    {
      "cell_type": "code",
      "metadata": {
        "id": "ZwBBt0tSv31Q"
      },
      "source": [
        "# Vamos a converter a coluna \"Sex\"\r\n",
        "# Para fazer isso primeiro criamos uma função que vai nos ajudar nisso\r\n",
        "\r\n",
        "def sex_categ_num(x):\r\n",
        "  if x == 'male':\r\n",
        "    return 1\r\n",
        "  elif x == 'female':\r\n",
        "    return 0  \r\n"
      ],
      "execution_count": 29,
      "outputs": []
    },
    {
      "cell_type": "code",
      "metadata": {
        "id": "q48CpeITxrde"
      },
      "source": [
        "\r\n",
        "train['Sex'] = train['Sex'].apply(sex_categ_num)"
      ],
      "execution_count": 30,
      "outputs": []
    },
    {
      "cell_type": "markdown",
      "metadata": {
        "id": "t2lKkoLG42Wl"
      },
      "source": [
        "Agora vamos a converter a coluna ``Embarked`` a numérico.\r\n",
        "\r\n",
        "Ao fazer isso, vamos ter três colunas (C, Q e S). Dessas três podemos eliminar uma, já que  automaticamente inferimos a terceira. \r\n"
      ]
    },
    {
      "cell_type": "code",
      "metadata": {
        "colab": {
          "base_uri": "https://localhost:8080/"
        },
        "id": "gqlQ0sypNBEz",
        "outputId": "47e1de5d-d392-4cf7-8240-9e532dfbf1f2"
      },
      "source": [
        "# Vejamos nossa coluna de \"Embarked\"\r\n",
        "\r\n",
        "train['Embarked'].value_counts()"
      ],
      "execution_count": 31,
      "outputs": [
        {
          "output_type": "execute_result",
          "data": {
            "text/plain": [
              "S    646\n",
              "C    168\n",
              "Q     77\n",
              "Name: Embarked, dtype: int64"
            ]
          },
          "metadata": {
            "tags": []
          },
          "execution_count": 31
        }
      ]
    },
    {
      "cell_type": "code",
      "metadata": {
        "id": "Ntci_3oHRLMl"
      },
      "source": [
        "# Podemos fazer o seguinte (criamos uma instância):\r\n",
        "\r\n",
        "embark = pd.get_dummies(train['Embarked'], drop_first = True)\r\n"
      ],
      "execution_count": 32,
      "outputs": []
    },
    {
      "cell_type": "code",
      "metadata": {
        "colab": {
          "base_uri": "https://localhost:8080/",
          "height": 252
        },
        "id": "8D72vOZeSItz",
        "outputId": "9db082f5-3e5d-4107-dba0-432b9eea9f36"
      },
      "source": [
        "embark.head(7)"
      ],
      "execution_count": 33,
      "outputs": [
        {
          "output_type": "execute_result",
          "data": {
            "text/html": [
              "<div>\n",
              "<style scoped>\n",
              "    .dataframe tbody tr th:only-of-type {\n",
              "        vertical-align: middle;\n",
              "    }\n",
              "\n",
              "    .dataframe tbody tr th {\n",
              "        vertical-align: top;\n",
              "    }\n",
              "\n",
              "    .dataframe thead th {\n",
              "        text-align: right;\n",
              "    }\n",
              "</style>\n",
              "<table border=\"1\" class=\"dataframe\">\n",
              "  <thead>\n",
              "    <tr style=\"text-align: right;\">\n",
              "      <th></th>\n",
              "      <th>Q</th>\n",
              "      <th>S</th>\n",
              "    </tr>\n",
              "  </thead>\n",
              "  <tbody>\n",
              "    <tr>\n",
              "      <th>0</th>\n",
              "      <td>0</td>\n",
              "      <td>1</td>\n",
              "    </tr>\n",
              "    <tr>\n",
              "      <th>1</th>\n",
              "      <td>0</td>\n",
              "      <td>0</td>\n",
              "    </tr>\n",
              "    <tr>\n",
              "      <th>2</th>\n",
              "      <td>0</td>\n",
              "      <td>1</td>\n",
              "    </tr>\n",
              "    <tr>\n",
              "      <th>3</th>\n",
              "      <td>0</td>\n",
              "      <td>1</td>\n",
              "    </tr>\n",
              "    <tr>\n",
              "      <th>4</th>\n",
              "      <td>0</td>\n",
              "      <td>1</td>\n",
              "    </tr>\n",
              "    <tr>\n",
              "      <th>5</th>\n",
              "      <td>1</td>\n",
              "      <td>0</td>\n",
              "    </tr>\n",
              "    <tr>\n",
              "      <th>6</th>\n",
              "      <td>0</td>\n",
              "      <td>1</td>\n",
              "    </tr>\n",
              "  </tbody>\n",
              "</table>\n",
              "</div>"
            ],
            "text/plain": [
              "   Q  S\n",
              "0  0  1\n",
              "1  0  0\n",
              "2  0  1\n",
              "3  0  1\n",
              "4  0  1\n",
              "5  1  0\n",
              "6  0  1"
            ]
          },
          "metadata": {
            "tags": []
          },
          "execution_count": 33
        }
      ]
    },
    {
      "cell_type": "markdown",
      "metadata": {
        "id": "6KrY_z6hnuwG"
      },
      "source": [
        "A seguir vamos a eliminar algumas as colunas que não são utéis para nosso propósito."
      ]
    },
    {
      "cell_type": "code",
      "metadata": {
        "id": "awdk6O74fCUe"
      },
      "source": [
        "train.drop(['PassengerId', 'Name', 'Age', 'Ticket', 'Fare'], axis=1, inplace=True)"
      ],
      "execution_count": 34,
      "outputs": []
    },
    {
      "cell_type": "markdown",
      "metadata": {
        "id": "GVB3LUrf3krV"
      },
      "source": [
        "A seguir vamos a colcoar as novas informações que criamos e eliminar aquela que foi convertida.\r\n",
        "\r\n"
      ]
    },
    {
      "cell_type": "code",
      "metadata": {
        "id": "JmvbAy-S4CT1"
      },
      "source": [
        "train = pd.concat([train, embark], axis=1) "
      ],
      "execution_count": 35,
      "outputs": []
    },
    {
      "cell_type": "code",
      "metadata": {
        "id": "FVKOMOwD5aFg"
      },
      "source": [
        "# Eliminamos a coluna \"Embarked\"\r\n",
        "\r\n",
        "del train['Embarked']"
      ],
      "execution_count": 36,
      "outputs": []
    },
    {
      "cell_type": "code",
      "metadata": {
        "colab": {
          "base_uri": "https://localhost:8080/",
          "height": 194
        },
        "id": "19EC5aMhs8-K",
        "outputId": "7dbc6a74-ff4d-4c29-c00d-83cbaf5bd1ee"
      },
      "source": [
        "\r\n",
        "train.head(5)"
      ],
      "execution_count": 37,
      "outputs": [
        {
          "output_type": "execute_result",
          "data": {
            "text/html": [
              "<div>\n",
              "<style scoped>\n",
              "    .dataframe tbody tr th:only-of-type {\n",
              "        vertical-align: middle;\n",
              "    }\n",
              "\n",
              "    .dataframe tbody tr th {\n",
              "        vertical-align: top;\n",
              "    }\n",
              "\n",
              "    .dataframe thead th {\n",
              "        text-align: right;\n",
              "    }\n",
              "</style>\n",
              "<table border=\"1\" class=\"dataframe\">\n",
              "  <thead>\n",
              "    <tr style=\"text-align: right;\">\n",
              "      <th></th>\n",
              "      <th>Survived</th>\n",
              "      <th>Pclass</th>\n",
              "      <th>Sex</th>\n",
              "      <th>SibSp</th>\n",
              "      <th>Parch</th>\n",
              "      <th>Q</th>\n",
              "      <th>S</th>\n",
              "    </tr>\n",
              "  </thead>\n",
              "  <tbody>\n",
              "    <tr>\n",
              "      <th>0</th>\n",
              "      <td>0</td>\n",
              "      <td>3</td>\n",
              "      <td>1</td>\n",
              "      <td>1</td>\n",
              "      <td>0</td>\n",
              "      <td>0</td>\n",
              "      <td>1</td>\n",
              "    </tr>\n",
              "    <tr>\n",
              "      <th>1</th>\n",
              "      <td>1</td>\n",
              "      <td>1</td>\n",
              "      <td>0</td>\n",
              "      <td>1</td>\n",
              "      <td>0</td>\n",
              "      <td>0</td>\n",
              "      <td>0</td>\n",
              "    </tr>\n",
              "    <tr>\n",
              "      <th>2</th>\n",
              "      <td>1</td>\n",
              "      <td>3</td>\n",
              "      <td>0</td>\n",
              "      <td>0</td>\n",
              "      <td>0</td>\n",
              "      <td>0</td>\n",
              "      <td>1</td>\n",
              "    </tr>\n",
              "    <tr>\n",
              "      <th>3</th>\n",
              "      <td>1</td>\n",
              "      <td>1</td>\n",
              "      <td>0</td>\n",
              "      <td>1</td>\n",
              "      <td>0</td>\n",
              "      <td>0</td>\n",
              "      <td>1</td>\n",
              "    </tr>\n",
              "    <tr>\n",
              "      <th>4</th>\n",
              "      <td>0</td>\n",
              "      <td>3</td>\n",
              "      <td>1</td>\n",
              "      <td>0</td>\n",
              "      <td>0</td>\n",
              "      <td>0</td>\n",
              "      <td>1</td>\n",
              "    </tr>\n",
              "  </tbody>\n",
              "</table>\n",
              "</div>"
            ],
            "text/plain": [
              "   Survived  Pclass  Sex  SibSp  Parch  Q  S\n",
              "0         0       3    1      1      0  0  1\n",
              "1         1       1    0      1      0  0  0\n",
              "2         1       3    0      0      0  0  1\n",
              "3         1       1    0      1      0  0  1\n",
              "4         0       3    1      0      0  0  1"
            ]
          },
          "metadata": {
            "tags": []
          },
          "execution_count": 37
        }
      ]
    },
    {
      "cell_type": "markdown",
      "metadata": {
        "id": "VATsjRf4ByGN"
      },
      "source": [
        "### Vamos a preparar também nossos Dados de test"
      ]
    },
    {
      "cell_type": "code",
      "metadata": {
        "id": "t4sa8RRoCTpk"
      },
      "source": [
        "test['Sex'] = test['Sex'].apply(sex_categ_num)"
      ],
      "execution_count": 38,
      "outputs": []
    },
    {
      "cell_type": "code",
      "metadata": {
        "id": "x-JS_mHpCuFs"
      },
      "source": [
        "embark = pd.get_dummies(test['Embarked'], drop_first = True)\r\n"
      ],
      "execution_count": 39,
      "outputs": []
    },
    {
      "cell_type": "code",
      "metadata": {
        "id": "hAHaRQT7C9aD"
      },
      "source": [
        "test = pd.concat([test, embark], axis=1) "
      ],
      "execution_count": 40,
      "outputs": []
    },
    {
      "cell_type": "code",
      "metadata": {
        "id": "Lp2E8jvSBFFe"
      },
      "source": [
        "test.drop(['PassengerId', 'Name', 'Age', 'Ticket', 'Fare'], axis=1, inplace=True)"
      ],
      "execution_count": 41,
      "outputs": []
    },
    {
      "cell_type": "code",
      "metadata": {
        "colab": {
          "base_uri": "https://localhost:8080/"
        },
        "id": "OSC_sdJACkJ6",
        "outputId": "c7e9eea7-ebac-4f8f-8a42-4080a48b4355"
      },
      "source": [
        "test.info()"
      ],
      "execution_count": 42,
      "outputs": [
        {
          "output_type": "stream",
          "text": [
            "<class 'pandas.core.frame.DataFrame'>\n",
            "RangeIndex: 418 entries, 0 to 417\n",
            "Data columns (total 7 columns):\n",
            " #   Column    Non-Null Count  Dtype \n",
            "---  ------    --------------  ----- \n",
            " 0   Pclass    418 non-null    int64 \n",
            " 1   Sex       418 non-null    int64 \n",
            " 2   SibSp     418 non-null    int64 \n",
            " 3   Parch     418 non-null    int64 \n",
            " 4   Embarked  418 non-null    object\n",
            " 5   Q         418 non-null    uint8 \n",
            " 6   S         418 non-null    uint8 \n",
            "dtypes: int64(4), object(1), uint8(2)\n",
            "memory usage: 17.3+ KB\n"
          ],
          "name": "stdout"
        }
      ]
    },
    {
      "cell_type": "code",
      "metadata": {
        "colab": {
          "base_uri": "https://localhost:8080/",
          "height": 135
        },
        "id": "Ucj5tufSvAxa",
        "outputId": "ed7fa2c2-97a6-4afd-9f6e-2d75c27486ad"
      },
      "source": [
        "del test['Embarked']\r\n",
        "test.head(3)"
      ],
      "execution_count": 43,
      "outputs": [
        {
          "output_type": "execute_result",
          "data": {
            "text/html": [
              "<div>\n",
              "<style scoped>\n",
              "    .dataframe tbody tr th:only-of-type {\n",
              "        vertical-align: middle;\n",
              "    }\n",
              "\n",
              "    .dataframe tbody tr th {\n",
              "        vertical-align: top;\n",
              "    }\n",
              "\n",
              "    .dataframe thead th {\n",
              "        text-align: right;\n",
              "    }\n",
              "</style>\n",
              "<table border=\"1\" class=\"dataframe\">\n",
              "  <thead>\n",
              "    <tr style=\"text-align: right;\">\n",
              "      <th></th>\n",
              "      <th>Pclass</th>\n",
              "      <th>Sex</th>\n",
              "      <th>SibSp</th>\n",
              "      <th>Parch</th>\n",
              "      <th>Q</th>\n",
              "      <th>S</th>\n",
              "    </tr>\n",
              "  </thead>\n",
              "  <tbody>\n",
              "    <tr>\n",
              "      <th>0</th>\n",
              "      <td>3</td>\n",
              "      <td>1</td>\n",
              "      <td>0</td>\n",
              "      <td>0</td>\n",
              "      <td>1</td>\n",
              "      <td>0</td>\n",
              "    </tr>\n",
              "    <tr>\n",
              "      <th>1</th>\n",
              "      <td>3</td>\n",
              "      <td>0</td>\n",
              "      <td>1</td>\n",
              "      <td>0</td>\n",
              "      <td>0</td>\n",
              "      <td>1</td>\n",
              "    </tr>\n",
              "    <tr>\n",
              "      <th>2</th>\n",
              "      <td>2</td>\n",
              "      <td>1</td>\n",
              "      <td>0</td>\n",
              "      <td>0</td>\n",
              "      <td>1</td>\n",
              "      <td>0</td>\n",
              "    </tr>\n",
              "  </tbody>\n",
              "</table>\n",
              "</div>"
            ],
            "text/plain": [
              "   Pclass  Sex  SibSp  Parch  Q  S\n",
              "0       3    1      0      0  1  0\n",
              "1       3    0      1      0  0  1\n",
              "2       2    1      0      0  1  0"
            ]
          },
          "metadata": {
            "tags": []
          },
          "execution_count": 43
        }
      ]
    },
    {
      "cell_type": "markdown",
      "metadata": {
        "id": "KX_88dHLEDMn"
      },
      "source": [
        "# Preparamos nossos Dados de treinamento e teste"
      ]
    },
    {
      "cell_type": "code",
      "metadata": {
        "id": "-AA1ArT_A8Lp"
      },
      "source": [
        "x_train = train.drop(\"Survived\", axis=1)\r\n",
        "y_train = train[\"Survived\"]\r\n",
        "x_test = test"
      ],
      "execution_count": 44,
      "outputs": []
    },
    {
      "cell_type": "code",
      "metadata": {
        "colab": {
          "base_uri": "https://localhost:8080/"
        },
        "id": "LXAlg2ADExfI",
        "outputId": "6996d73b-f6bb-40d7-e8bc-6c6e501e2f80"
      },
      "source": [
        "print(\"Forma de x_train: \", x_train.shape)\r\n",
        "print(\"\")\r\n",
        "print(\"Forma de y_train: \", y_train.shape)\r\n",
        "print(\"\")\r\n",
        "print(\"Foram de x_test: \", x_test.shape)"
      ],
      "execution_count": 45,
      "outputs": [
        {
          "output_type": "stream",
          "text": [
            "Forma de x_train:  (891, 6)\n",
            "\n",
            "Forma de y_train:  (891,)\n",
            "\n",
            "Foram de x_test:  (418, 6)\n"
          ],
          "name": "stdout"
        }
      ]
    },
    {
      "cell_type": "markdown",
      "metadata": {
        "id": "Q5CVmFBJGAAc"
      },
      "source": [
        "## Contruindo nosso modelo (Red Neural)"
      ]
    },
    {
      "cell_type": "code",
      "metadata": {
        "id": "1wKRRx5kE5EO"
      },
      "source": [
        "model = Sequential()\r\n",
        "\r\n",
        "model.add(Dense(units = 16, input_shape = (6,), activation = 'relu'))\r\n",
        "\r\n",
        "model.add(Dense(units = 128, activation = 'relu',\r\n",
        "                kernel_initializer = 'he_normal', use_bias = False))\r\n",
        "\r\n",
        "model.add(BatchNormalization())\r\n",
        "\r\n",
        "model.add(Dense(units = 64, activation = 'relu',\r\n",
        "                kernel_initializer = 'he_normal', use_bias = False))\r\n",
        "\r\n",
        "model.add(Dropout(0.1))\r\n",
        "\r\n",
        "model.add(Dense(units = 32, activation = 'relu',\r\n",
        "                kernel_initializer = 'he_normal', use_bias = False))\r\n",
        "\r\n",
        "model.add(Dropout(0.1))\r\n",
        "\r\n",
        "model.add(Dense(units = 16, activation = 'relu'))\r\n",
        "\r\n",
        "model.add(Dropout(0.15))\r\n",
        "\r\n",
        "model.add(Dense(units = 8, activation = 'relu'))\r\n",
        "\r\n",
        "model.add(Dense(units = 4, activation = 'relu',\r\n",
        "                kernel_initializer = 'he_normal', use_bias = False))\r\n",
        "\r\n",
        "model.add(Dense(units =1 , activation = 'sigmoid'))\r\n"
      ],
      "execution_count": 46,
      "outputs": []
    },
    {
      "cell_type": "code",
      "metadata": {
        "colab": {
          "base_uri": "https://localhost:8080/"
        },
        "id": "JmeduOtqGkKh",
        "outputId": "29b7c499-db71-46f5-e092-3c141c3854e4"
      },
      "source": [
        "model.summary()"
      ],
      "execution_count": 47,
      "outputs": [
        {
          "output_type": "stream",
          "text": [
            "Model: \"sequential\"\n",
            "_________________________________________________________________\n",
            "Layer (type)                 Output Shape              Param #   \n",
            "=================================================================\n",
            "dense (Dense)                (None, 16)                112       \n",
            "_________________________________________________________________\n",
            "dense_1 (Dense)              (None, 128)               2048      \n",
            "_________________________________________________________________\n",
            "batch_normalization (BatchNo (None, 128)               512       \n",
            "_________________________________________________________________\n",
            "dense_2 (Dense)              (None, 64)                8192      \n",
            "_________________________________________________________________\n",
            "dropout (Dropout)            (None, 64)                0         \n",
            "_________________________________________________________________\n",
            "dense_3 (Dense)              (None, 32)                2048      \n",
            "_________________________________________________________________\n",
            "dropout_1 (Dropout)          (None, 32)                0         \n",
            "_________________________________________________________________\n",
            "dense_4 (Dense)              (None, 16)                528       \n",
            "_________________________________________________________________\n",
            "dropout_2 (Dropout)          (None, 16)                0         \n",
            "_________________________________________________________________\n",
            "dense_5 (Dense)              (None, 8)                 136       \n",
            "_________________________________________________________________\n",
            "dense_6 (Dense)              (None, 4)                 32        \n",
            "_________________________________________________________________\n",
            "dense_7 (Dense)              (None, 1)                 5         \n",
            "=================================================================\n",
            "Total params: 13,613\n",
            "Trainable params: 13,357\n",
            "Non-trainable params: 256\n",
            "_________________________________________________________________\n"
          ],
          "name": "stdout"
        }
      ]
    },
    {
      "cell_type": "code",
      "metadata": {
        "id": "2jvTAAxCGqhb"
      },
      "source": [
        "# Compilando nosso modelo\r\n",
        "\r\n",
        "model.compile(loss=\"binary_crossentropy\",\r\n",
        "              optimizer=\"adam\", metrics=[\"accuracy\"])\r\n"
      ],
      "execution_count": 48,
      "outputs": []
    },
    {
      "cell_type": "code",
      "metadata": {
        "colab": {
          "base_uri": "https://localhost:8080/"
        },
        "id": "JXJb56xuG_CA",
        "outputId": "9dd62554-0e39-49ce-ff96-4f45a03b56f2"
      },
      "source": [
        "# Fitting nosso modelo\r\n",
        "\r\n",
        "training = model.fit(x_train, y_train, batch_size = 32,\r\n",
        "                     validation_split=0.20, verbose = 2, epochs = 100)\r\n"
      ],
      "execution_count": 49,
      "outputs": [
        {
          "output_type": "stream",
          "text": [
            "Epoch 1/100\n",
            "23/23 - 1s - loss: 0.7073 - accuracy: 0.5534 - val_loss: 0.6797 - val_accuracy: 0.6425\n",
            "Epoch 2/100\n",
            "23/23 - 0s - loss: 0.6219 - accuracy: 0.7065 - val_loss: 0.6304 - val_accuracy: 0.6425\n",
            "Epoch 3/100\n",
            "23/23 - 0s - loss: 0.5211 - accuracy: 0.7739 - val_loss: 0.5646 - val_accuracy: 0.7095\n",
            "Epoch 4/100\n",
            "23/23 - 0s - loss: 0.5398 - accuracy: 0.7683 - val_loss: 0.5264 - val_accuracy: 0.7542\n",
            "Epoch 5/100\n",
            "23/23 - 0s - loss: 0.4770 - accuracy: 0.7978 - val_loss: 0.5045 - val_accuracy: 0.7654\n",
            "Epoch 6/100\n",
            "23/23 - 0s - loss: 0.4805 - accuracy: 0.7851 - val_loss: 0.4693 - val_accuracy: 0.8045\n",
            "Epoch 7/100\n",
            "23/23 - 0s - loss: 0.4625 - accuracy: 0.7992 - val_loss: 0.4572 - val_accuracy: 0.7989\n",
            "Epoch 8/100\n",
            "23/23 - 0s - loss: 0.4750 - accuracy: 0.8048 - val_loss: 0.4428 - val_accuracy: 0.7989\n",
            "Epoch 9/100\n",
            "23/23 - 0s - loss: 0.4593 - accuracy: 0.8104 - val_loss: 0.4402 - val_accuracy: 0.7989\n",
            "Epoch 10/100\n",
            "23/23 - 0s - loss: 0.4596 - accuracy: 0.8076 - val_loss: 0.4175 - val_accuracy: 0.8212\n",
            "Epoch 11/100\n",
            "23/23 - 0s - loss: 0.4624 - accuracy: 0.8006 - val_loss: 0.4103 - val_accuracy: 0.8212\n",
            "Epoch 12/100\n",
            "23/23 - 0s - loss: 0.4410 - accuracy: 0.8146 - val_loss: 0.3902 - val_accuracy: 0.8212\n",
            "Epoch 13/100\n",
            "23/23 - 0s - loss: 0.4586 - accuracy: 0.8006 - val_loss: 0.3908 - val_accuracy: 0.8324\n",
            "Epoch 14/100\n",
            "23/23 - 0s - loss: 0.4438 - accuracy: 0.8132 - val_loss: 0.3977 - val_accuracy: 0.8212\n",
            "Epoch 15/100\n",
            "23/23 - 0s - loss: 0.4407 - accuracy: 0.8118 - val_loss: 0.3985 - val_accuracy: 0.8268\n",
            "Epoch 16/100\n",
            "23/23 - 0s - loss: 0.4536 - accuracy: 0.7978 - val_loss: 0.3977 - val_accuracy: 0.8212\n",
            "Epoch 17/100\n",
            "23/23 - 0s - loss: 0.4412 - accuracy: 0.8062 - val_loss: 0.3874 - val_accuracy: 0.8268\n",
            "Epoch 18/100\n",
            "23/23 - 0s - loss: 0.4349 - accuracy: 0.8132 - val_loss: 0.3870 - val_accuracy: 0.8268\n",
            "Epoch 19/100\n",
            "23/23 - 0s - loss: 0.4370 - accuracy: 0.8090 - val_loss: 0.3820 - val_accuracy: 0.8436\n",
            "Epoch 20/100\n",
            "23/23 - 0s - loss: 0.4466 - accuracy: 0.8118 - val_loss: 0.3935 - val_accuracy: 0.8268\n",
            "Epoch 21/100\n",
            "23/23 - 0s - loss: 0.4366 - accuracy: 0.8146 - val_loss: 0.3925 - val_accuracy: 0.8268\n",
            "Epoch 22/100\n",
            "23/23 - 0s - loss: 0.4431 - accuracy: 0.8216 - val_loss: 0.3908 - val_accuracy: 0.8212\n",
            "Epoch 23/100\n",
            "23/23 - 0s - loss: 0.4436 - accuracy: 0.8062 - val_loss: 0.3867 - val_accuracy: 0.8156\n",
            "Epoch 24/100\n",
            "23/23 - 0s - loss: 0.4320 - accuracy: 0.8174 - val_loss: 0.3852 - val_accuracy: 0.8324\n",
            "Epoch 25/100\n",
            "23/23 - 0s - loss: 0.4315 - accuracy: 0.8090 - val_loss: 0.3958 - val_accuracy: 0.8268\n",
            "Epoch 26/100\n",
            "23/23 - 0s - loss: 0.4459 - accuracy: 0.8076 - val_loss: 0.3858 - val_accuracy: 0.8156\n",
            "Epoch 27/100\n",
            "23/23 - 0s - loss: 0.4462 - accuracy: 0.8090 - val_loss: 0.3946 - val_accuracy: 0.8268\n",
            "Epoch 28/100\n",
            "23/23 - 0s - loss: 0.4179 - accuracy: 0.8132 - val_loss: 0.3933 - val_accuracy: 0.8156\n",
            "Epoch 29/100\n",
            "23/23 - 0s - loss: 0.4351 - accuracy: 0.8132 - val_loss: 0.3888 - val_accuracy: 0.8268\n",
            "Epoch 30/100\n",
            "23/23 - 0s - loss: 0.4233 - accuracy: 0.8146 - val_loss: 0.3843 - val_accuracy: 0.8268\n",
            "Epoch 31/100\n",
            "23/23 - 0s - loss: 0.4147 - accuracy: 0.8202 - val_loss: 0.3882 - val_accuracy: 0.8324\n",
            "Epoch 32/100\n",
            "23/23 - 0s - loss: 0.4303 - accuracy: 0.8132 - val_loss: 0.3928 - val_accuracy: 0.8324\n",
            "Epoch 33/100\n",
            "23/23 - 0s - loss: 0.4365 - accuracy: 0.8132 - val_loss: 0.3988 - val_accuracy: 0.8268\n",
            "Epoch 34/100\n",
            "23/23 - 0s - loss: 0.4276 - accuracy: 0.8118 - val_loss: 0.3870 - val_accuracy: 0.8268\n",
            "Epoch 35/100\n",
            "23/23 - 0s - loss: 0.4216 - accuracy: 0.8216 - val_loss: 0.3914 - val_accuracy: 0.8380\n",
            "Epoch 36/100\n",
            "23/23 - 0s - loss: 0.4342 - accuracy: 0.8104 - val_loss: 0.3932 - val_accuracy: 0.8156\n",
            "Epoch 37/100\n",
            "23/23 - 0s - loss: 0.4256 - accuracy: 0.8174 - val_loss: 0.3946 - val_accuracy: 0.8045\n",
            "Epoch 38/100\n",
            "23/23 - 0s - loss: 0.4261 - accuracy: 0.8174 - val_loss: 0.3900 - val_accuracy: 0.8212\n",
            "Epoch 39/100\n",
            "23/23 - 0s - loss: 0.4186 - accuracy: 0.8244 - val_loss: 0.3867 - val_accuracy: 0.8268\n",
            "Epoch 40/100\n",
            "23/23 - 0s - loss: 0.4260 - accuracy: 0.8048 - val_loss: 0.4014 - val_accuracy: 0.8101\n",
            "Epoch 41/100\n",
            "23/23 - 0s - loss: 0.4368 - accuracy: 0.8104 - val_loss: 0.3944 - val_accuracy: 0.8268\n",
            "Epoch 42/100\n",
            "23/23 - 0s - loss: 0.4139 - accuracy: 0.8202 - val_loss: 0.3894 - val_accuracy: 0.8156\n",
            "Epoch 43/100\n",
            "23/23 - 0s - loss: 0.4231 - accuracy: 0.8230 - val_loss: 0.4109 - val_accuracy: 0.8101\n",
            "Epoch 44/100\n",
            "23/23 - 0s - loss: 0.4224 - accuracy: 0.8188 - val_loss: 0.3908 - val_accuracy: 0.8212\n",
            "Epoch 45/100\n",
            "23/23 - 0s - loss: 0.4225 - accuracy: 0.8202 - val_loss: 0.3836 - val_accuracy: 0.8268\n",
            "Epoch 46/100\n",
            "23/23 - 0s - loss: 0.4060 - accuracy: 0.8160 - val_loss: 0.3918 - val_accuracy: 0.8268\n",
            "Epoch 47/100\n",
            "23/23 - 0s - loss: 0.4088 - accuracy: 0.8244 - val_loss: 0.3858 - val_accuracy: 0.8212\n",
            "Epoch 48/100\n",
            "23/23 - 0s - loss: 0.4151 - accuracy: 0.8244 - val_loss: 0.3869 - val_accuracy: 0.8324\n",
            "Epoch 49/100\n",
            "23/23 - 0s - loss: 0.4086 - accuracy: 0.8230 - val_loss: 0.3893 - val_accuracy: 0.8324\n",
            "Epoch 50/100\n",
            "23/23 - 0s - loss: 0.3980 - accuracy: 0.8385 - val_loss: 0.3857 - val_accuracy: 0.8156\n",
            "Epoch 51/100\n",
            "23/23 - 0s - loss: 0.3984 - accuracy: 0.8287 - val_loss: 0.3861 - val_accuracy: 0.8212\n",
            "Epoch 52/100\n",
            "23/23 - 0s - loss: 0.4017 - accuracy: 0.8258 - val_loss: 0.3915 - val_accuracy: 0.8156\n",
            "Epoch 53/100\n",
            "23/23 - 0s - loss: 0.4184 - accuracy: 0.8258 - val_loss: 0.3898 - val_accuracy: 0.8380\n",
            "Epoch 54/100\n",
            "23/23 - 0s - loss: 0.4127 - accuracy: 0.8118 - val_loss: 0.3902 - val_accuracy: 0.8212\n",
            "Epoch 55/100\n",
            "23/23 - 0s - loss: 0.4232 - accuracy: 0.8160 - val_loss: 0.3892 - val_accuracy: 0.8324\n",
            "Epoch 56/100\n",
            "23/23 - 0s - loss: 0.4194 - accuracy: 0.8343 - val_loss: 0.3811 - val_accuracy: 0.8268\n",
            "Epoch 57/100\n",
            "23/23 - 0s - loss: 0.4059 - accuracy: 0.8230 - val_loss: 0.3829 - val_accuracy: 0.8212\n",
            "Epoch 58/100\n",
            "23/23 - 0s - loss: 0.4108 - accuracy: 0.8329 - val_loss: 0.3874 - val_accuracy: 0.8268\n",
            "Epoch 59/100\n",
            "23/23 - 0s - loss: 0.4238 - accuracy: 0.8287 - val_loss: 0.3878 - val_accuracy: 0.8268\n",
            "Epoch 60/100\n",
            "23/23 - 0s - loss: 0.4122 - accuracy: 0.8202 - val_loss: 0.3842 - val_accuracy: 0.8324\n",
            "Epoch 61/100\n",
            "23/23 - 0s - loss: 0.4154 - accuracy: 0.8146 - val_loss: 0.3907 - val_accuracy: 0.8324\n",
            "Epoch 62/100\n",
            "23/23 - 0s - loss: 0.4114 - accuracy: 0.8258 - val_loss: 0.3892 - val_accuracy: 0.8324\n",
            "Epoch 63/100\n",
            "23/23 - 0s - loss: 0.4075 - accuracy: 0.8230 - val_loss: 0.3905 - val_accuracy: 0.8212\n",
            "Epoch 64/100\n",
            "23/23 - 0s - loss: 0.4045 - accuracy: 0.8272 - val_loss: 0.3894 - val_accuracy: 0.8324\n",
            "Epoch 65/100\n",
            "23/23 - 0s - loss: 0.4063 - accuracy: 0.8160 - val_loss: 0.3862 - val_accuracy: 0.8324\n",
            "Epoch 66/100\n",
            "23/23 - 0s - loss: 0.4121 - accuracy: 0.8272 - val_loss: 0.3848 - val_accuracy: 0.8212\n",
            "Epoch 67/100\n",
            "23/23 - 0s - loss: 0.4123 - accuracy: 0.8160 - val_loss: 0.3816 - val_accuracy: 0.8324\n",
            "Epoch 68/100\n",
            "23/23 - 0s - loss: 0.3892 - accuracy: 0.8272 - val_loss: 0.3774 - val_accuracy: 0.8380\n",
            "Epoch 69/100\n",
            "23/23 - 0s - loss: 0.4147 - accuracy: 0.8146 - val_loss: 0.3811 - val_accuracy: 0.8380\n",
            "Epoch 70/100\n",
            "23/23 - 0s - loss: 0.3984 - accuracy: 0.8315 - val_loss: 0.3883 - val_accuracy: 0.8212\n",
            "Epoch 71/100\n",
            "23/23 - 0s - loss: 0.4039 - accuracy: 0.8230 - val_loss: 0.3934 - val_accuracy: 0.8212\n",
            "Epoch 72/100\n",
            "23/23 - 0s - loss: 0.4125 - accuracy: 0.8301 - val_loss: 0.3777 - val_accuracy: 0.8268\n",
            "Epoch 73/100\n",
            "23/23 - 0s - loss: 0.4192 - accuracy: 0.8202 - val_loss: 0.3902 - val_accuracy: 0.8212\n",
            "Epoch 74/100\n",
            "23/23 - 0s - loss: 0.4001 - accuracy: 0.8399 - val_loss: 0.3923 - val_accuracy: 0.8212\n",
            "Epoch 75/100\n",
            "23/23 - 0s - loss: 0.4099 - accuracy: 0.8160 - val_loss: 0.3839 - val_accuracy: 0.8212\n",
            "Epoch 76/100\n",
            "23/23 - 0s - loss: 0.3914 - accuracy: 0.8272 - val_loss: 0.3939 - val_accuracy: 0.8212\n",
            "Epoch 77/100\n",
            "23/23 - 0s - loss: 0.4069 - accuracy: 0.8216 - val_loss: 0.3945 - val_accuracy: 0.8212\n",
            "Epoch 78/100\n",
            "23/23 - 0s - loss: 0.4094 - accuracy: 0.8216 - val_loss: 0.3843 - val_accuracy: 0.8101\n",
            "Epoch 79/100\n",
            "23/23 - 0s - loss: 0.4101 - accuracy: 0.8202 - val_loss: 0.3919 - val_accuracy: 0.8324\n",
            "Epoch 80/100\n",
            "23/23 - 0s - loss: 0.3942 - accuracy: 0.8315 - val_loss: 0.3822 - val_accuracy: 0.8268\n",
            "Epoch 81/100\n",
            "23/23 - 0s - loss: 0.4038 - accuracy: 0.8160 - val_loss: 0.3883 - val_accuracy: 0.8268\n",
            "Epoch 82/100\n",
            "23/23 - 0s - loss: 0.4112 - accuracy: 0.8272 - val_loss: 0.3914 - val_accuracy: 0.8324\n",
            "Epoch 83/100\n",
            "23/23 - 0s - loss: 0.4154 - accuracy: 0.8160 - val_loss: 0.3917 - val_accuracy: 0.8156\n",
            "Epoch 84/100\n",
            "23/23 - 0s - loss: 0.4002 - accuracy: 0.8315 - val_loss: 0.3966 - val_accuracy: 0.8156\n",
            "Epoch 85/100\n",
            "23/23 - 0s - loss: 0.4066 - accuracy: 0.8202 - val_loss: 0.3838 - val_accuracy: 0.8156\n",
            "Epoch 86/100\n",
            "23/23 - 0s - loss: 0.4053 - accuracy: 0.8258 - val_loss: 0.3809 - val_accuracy: 0.8156\n",
            "Epoch 87/100\n",
            "23/23 - 0s - loss: 0.4056 - accuracy: 0.8301 - val_loss: 0.3816 - val_accuracy: 0.8101\n",
            "Epoch 88/100\n",
            "23/23 - 0s - loss: 0.3996 - accuracy: 0.8272 - val_loss: 0.3828 - val_accuracy: 0.8268\n",
            "Epoch 89/100\n",
            "23/23 - 0s - loss: 0.4170 - accuracy: 0.8202 - val_loss: 0.3805 - val_accuracy: 0.8212\n",
            "Epoch 90/100\n",
            "23/23 - 0s - loss: 0.4123 - accuracy: 0.8244 - val_loss: 0.3810 - val_accuracy: 0.8268\n",
            "Epoch 91/100\n",
            "23/23 - 0s - loss: 0.3895 - accuracy: 0.8301 - val_loss: 0.3822 - val_accuracy: 0.8268\n",
            "Epoch 92/100\n",
            "23/23 - 0s - loss: 0.3997 - accuracy: 0.8272 - val_loss: 0.3839 - val_accuracy: 0.8212\n",
            "Epoch 93/100\n",
            "23/23 - 0s - loss: 0.4098 - accuracy: 0.8258 - val_loss: 0.3855 - val_accuracy: 0.8212\n",
            "Epoch 94/100\n",
            "23/23 - 0s - loss: 0.4044 - accuracy: 0.8258 - val_loss: 0.3895 - val_accuracy: 0.8101\n",
            "Epoch 95/100\n",
            "23/23 - 0s - loss: 0.3936 - accuracy: 0.8287 - val_loss: 0.3925 - val_accuracy: 0.8212\n",
            "Epoch 96/100\n",
            "23/23 - 0s - loss: 0.4070 - accuracy: 0.8244 - val_loss: 0.3936 - val_accuracy: 0.8045\n",
            "Epoch 97/100\n",
            "23/23 - 0s - loss: 0.4052 - accuracy: 0.8118 - val_loss: 0.3773 - val_accuracy: 0.8268\n",
            "Epoch 98/100\n",
            "23/23 - 0s - loss: 0.4024 - accuracy: 0.8202 - val_loss: 0.3845 - val_accuracy: 0.8156\n",
            "Epoch 99/100\n",
            "23/23 - 0s - loss: 0.3922 - accuracy: 0.8202 - val_loss: 0.3943 - val_accuracy: 0.8156\n",
            "Epoch 100/100\n",
            "23/23 - 0s - loss: 0.3950 - accuracy: 0.8329 - val_loss: 0.3864 - val_accuracy: 0.8212\n"
          ],
          "name": "stdout"
        }
      ]
    },
    {
      "cell_type": "code",
      "metadata": {
        "colab": {
          "base_uri": "https://localhost:8080/"
        },
        "id": "qrRnhTKkHIzA",
        "outputId": "f58b3b5f-b329-4b5e-b885-ae95186f381d"
      },
      "source": [
        "val_acc = np.mean(training.history['val_accuracy'])\r\n",
        "print(\"\\n%s: %.2f%%\" % ('val_acc', val_acc*100))"
      ],
      "execution_count": 50,
      "outputs": [
        {
          "output_type": "stream",
          "text": [
            "\n",
            "val_acc: 81.68%\n"
          ],
          "name": "stdout"
        }
      ]
    },
    {
      "cell_type": "code",
      "metadata": {
        "colab": {
          "base_uri": "https://localhost:8080/",
          "height": 295
        },
        "id": "pRzquQQKNpeJ",
        "outputId": "865eaf30-9286-4fce-cbbf-553ba0f8b101"
      },
      "source": [
        "# summarize history for accuracy\r\n",
        "\r\n",
        "plt.plot(training.history['accuracy'])\r\n",
        "plt.plot(training.history['val_accuracy'])\r\n",
        "plt.title('model accuracy')\r\n",
        "plt.ylabel('accuracy')\r\n",
        "plt.xlabel('epoch')\r\n",
        "plt.legend(['train', 'validation'])\r\n",
        "plt.show()"
      ],
      "execution_count": 51,
      "outputs": [
        {
          "output_type": "display_data",
          "data": {
            "image/png": "[encoded data removed]",
            "text/plain": [
              "<Figure size 432x288 with 1 Axes>"
            ]
          },
          "metadata": {
            "tags": []
          }
        }
      ]
    },
    {
      "cell_type": "code",
      "metadata": {
        "colab": {
          "base_uri": "https://localhost:8080/",
          "height": 295
        },
        "id": "lQ7fd8LLbFsO",
        "outputId": "b99f0bd1-7043-434a-c5ad-2c752df0b807"
      },
      "source": [
        "# summarize history for Loss\r\n",
        "\r\n",
        "plt.plot(training.history['loss'])\r\n",
        "plt.plot(training.history['val_loss'])\r\n",
        "plt.title('binary_crossentropy Loss')\r\n",
        "plt.xlabel('epoch')\r\n",
        "plt.legend(['train', 'validation'])\r\n",
        "plt.show()"
      ],
      "execution_count": 52,
      "outputs": [
        {
          "output_type": "display_data",
          "data": {
            "image/png": "[encoded data removed]",
            "text/plain": [
              "<Figure size 432x288 with 1 Axes>"
            ]
          },
          "metadata": {
            "tags": []
          }
        }
      ]
    },
    {
      "cell_type": "markdown",
      "metadata": {
        "id": "SJITc2bYaEza"
      },
      "source": [
        "### Fazemos predições para nossos Dados de teste"
      ]
    },
    {
      "cell_type": "code",
      "metadata": {
        "colab": {
          "base_uri": "https://localhost:8080/"
        },
        "id": "bHxyyKSUWmrR",
        "outputId": "f98a24ce-1ff5-437d-fe6b-4fee7047fce1"
      },
      "source": [
        "y_pred = model.predict(x_test).reshape(-1)\r\n",
        "print(y_pred[:10])\r\n",
        "\r\n",
        "# round the values to nearest integer ie 0 or 1\r\n",
        "y_pred = np.round(y_pred)\r\n",
        "print(y_pred[:10])\r\n"
      ],
      "execution_count": 53,
      "outputs": [
        {
          "output_type": "stream",
          "text": [
            "[0.04793967 0.3513074  0.04236006 0.14953288 0.60342777 0.14953288\n",
            " 0.761064   0.37301302 0.6405086  0.00872714]\n",
            "[0. 0. 0. 0. 1. 0. 1. 0. 1. 0.]\n"
          ],
          "name": "stdout"
        }
      ]
    },
    {
      "cell_type": "markdown",
      "metadata": {
        "id": "zMqqSwnmckpv"
      },
      "source": [
        "**NOTA:**\r\n",
        "É recomendável seguir treinando o modelo para obter um valor menor da ``Loss`` e um valor mais alto da ``accuracy``.\r\n"
      ]
    },
    {
      "cell_type": "code",
      "metadata": {
        "id": "-vB_Ib8Hawou"
      },
      "source": [
        ""
      ],
      "execution_count": 53,
      "outputs": []
    }
  ]
}